{
 "cells": [
  {
   "cell_type": "code",
   "execution_count": 15,
   "metadata": {},
   "outputs": [],
   "source": [
    "from tenacity import retry, stop_after_attempt\n",
    "\n",
    "x = 0\n",
    "\n",
    "@retry(stop=stop_after_attempt(1))\n",
    "def stop_after_7_attempts():\n",
    "    global x\n",
    "    if x == 2:\n",
    "        return x\n",
    "    print(\"Stopping after 7 attempts\", x)\n",
    "    x += 1\n",
    "    raise Exception"
   ]
  },
  {
   "cell_type": "code",
   "execution_count": 16,
   "metadata": {},
   "outputs": [
    {
     "name": "stdout",
     "output_type": "stream",
     "text": [
      "Stopping after 7 attempts 0\n"
     ]
    },
    {
     "ename": "RetryError",
     "evalue": "RetryError[<Future at 0x7f4f74525240 state=finished raised Exception>]",
     "output_type": "error",
     "traceback": [
      "\u001b[0;31m---------------------------------------------------------------------------\u001b[0m",
      "\u001b[0;31mException\u001b[0m                                 Traceback (most recent call last)",
      "File \u001b[0;32m/opt/conda/envs/py3.10/lib/python3.10/site-packages/tenacity/__init__.py:478\u001b[0m, in \u001b[0;36mRetrying.__call__\u001b[0;34m(self, fn, *args, **kwargs)\u001b[0m\n\u001b[1;32m    477\u001b[0m \u001b[38;5;28;01mtry\u001b[39;00m:\n\u001b[0;32m--> 478\u001b[0m     result \u001b[38;5;241m=\u001b[39m \u001b[43mfn\u001b[49m\u001b[43m(\u001b[49m\u001b[38;5;241;43m*\u001b[39;49m\u001b[43margs\u001b[49m\u001b[43m,\u001b[49m\u001b[43m \u001b[49m\u001b[38;5;241;43m*\u001b[39;49m\u001b[38;5;241;43m*\u001b[39;49m\u001b[43mkwargs\u001b[49m\u001b[43m)\u001b[49m\n\u001b[1;32m    479\u001b[0m \u001b[38;5;28;01mexcept\u001b[39;00m \u001b[38;5;167;01mBaseException\u001b[39;00m:  \u001b[38;5;66;03m# noqa: B902\u001b[39;00m\n",
      "Cell \u001b[0;32mIn[15], line 12\u001b[0m, in \u001b[0;36mstop_after_7_attempts\u001b[0;34m()\u001b[0m\n\u001b[1;32m     11\u001b[0m x \u001b[38;5;241m+\u001b[39m\u001b[38;5;241m=\u001b[39m \u001b[38;5;241m1\u001b[39m\n\u001b[0;32m---> 12\u001b[0m \u001b[38;5;28;01mraise\u001b[39;00m \u001b[38;5;167;01mException\u001b[39;00m\n",
      "\u001b[0;31mException\u001b[0m: ",
      "\nThe above exception was the direct cause of the following exception:\n",
      "\u001b[0;31mRetryError\u001b[0m                                Traceback (most recent call last)",
      "Cell \u001b[0;32mIn[16], line 1\u001b[0m\n\u001b[0;32m----> 1\u001b[0m \u001b[43mstop_after_7_attempts\u001b[49m\u001b[43m(\u001b[49m\u001b[43m)\u001b[49m\n",
      "File \u001b[0;32m/opt/conda/envs/py3.10/lib/python3.10/site-packages/tenacity/__init__.py:336\u001b[0m, in \u001b[0;36mBaseRetrying.wraps.<locals>.wrapped_f\u001b[0;34m(*args, **kw)\u001b[0m\n\u001b[1;32m    334\u001b[0m copy \u001b[38;5;241m=\u001b[39m \u001b[38;5;28mself\u001b[39m\u001b[38;5;241m.\u001b[39mcopy()\n\u001b[1;32m    335\u001b[0m wrapped_f\u001b[38;5;241m.\u001b[39mstatistics \u001b[38;5;241m=\u001b[39m copy\u001b[38;5;241m.\u001b[39mstatistics  \u001b[38;5;66;03m# type: ignore[attr-defined]\u001b[39;00m\n\u001b[0;32m--> 336\u001b[0m \u001b[38;5;28;01mreturn\u001b[39;00m \u001b[43mcopy\u001b[49m\u001b[43m(\u001b[49m\u001b[43mf\u001b[49m\u001b[43m,\u001b[49m\u001b[43m \u001b[49m\u001b[38;5;241;43m*\u001b[39;49m\u001b[43margs\u001b[49m\u001b[43m,\u001b[49m\u001b[43m \u001b[49m\u001b[38;5;241;43m*\u001b[39;49m\u001b[38;5;241;43m*\u001b[39;49m\u001b[43mkw\u001b[49m\u001b[43m)\u001b[49m\n",
      "File \u001b[0;32m/opt/conda/envs/py3.10/lib/python3.10/site-packages/tenacity/__init__.py:475\u001b[0m, in \u001b[0;36mRetrying.__call__\u001b[0;34m(self, fn, *args, **kwargs)\u001b[0m\n\u001b[1;32m    473\u001b[0m retry_state \u001b[38;5;241m=\u001b[39m RetryCallState(retry_object\u001b[38;5;241m=\u001b[39m\u001b[38;5;28mself\u001b[39m, fn\u001b[38;5;241m=\u001b[39mfn, args\u001b[38;5;241m=\u001b[39margs, kwargs\u001b[38;5;241m=\u001b[39mkwargs)\n\u001b[1;32m    474\u001b[0m \u001b[38;5;28;01mwhile\u001b[39;00m \u001b[38;5;28;01mTrue\u001b[39;00m:\n\u001b[0;32m--> 475\u001b[0m     do \u001b[38;5;241m=\u001b[39m \u001b[38;5;28;43mself\u001b[39;49m\u001b[38;5;241;43m.\u001b[39;49m\u001b[43miter\u001b[49m\u001b[43m(\u001b[49m\u001b[43mretry_state\u001b[49m\u001b[38;5;241;43m=\u001b[39;49m\u001b[43mretry_state\u001b[49m\u001b[43m)\u001b[49m\n\u001b[1;32m    476\u001b[0m     \u001b[38;5;28;01mif\u001b[39;00m \u001b[38;5;28misinstance\u001b[39m(do, DoAttempt):\n\u001b[1;32m    477\u001b[0m         \u001b[38;5;28;01mtry\u001b[39;00m:\n",
      "File \u001b[0;32m/opt/conda/envs/py3.10/lib/python3.10/site-packages/tenacity/__init__.py:376\u001b[0m, in \u001b[0;36mBaseRetrying.iter\u001b[0;34m(self, retry_state)\u001b[0m\n\u001b[1;32m    374\u001b[0m result \u001b[38;5;241m=\u001b[39m \u001b[38;5;28;01mNone\u001b[39;00m\n\u001b[1;32m    375\u001b[0m \u001b[38;5;28;01mfor\u001b[39;00m action \u001b[38;5;129;01min\u001b[39;00m \u001b[38;5;28mself\u001b[39m\u001b[38;5;241m.\u001b[39miter_state\u001b[38;5;241m.\u001b[39mactions:\n\u001b[0;32m--> 376\u001b[0m     result \u001b[38;5;241m=\u001b[39m \u001b[43maction\u001b[49m\u001b[43m(\u001b[49m\u001b[43mretry_state\u001b[49m\u001b[43m)\u001b[49m\n\u001b[1;32m    377\u001b[0m \u001b[38;5;28;01mreturn\u001b[39;00m result\n",
      "File \u001b[0;32m/opt/conda/envs/py3.10/lib/python3.10/site-packages/tenacity/__init__.py:419\u001b[0m, in \u001b[0;36mBaseRetrying._post_stop_check_actions.<locals>.exc_check\u001b[0;34m(rs)\u001b[0m\n\u001b[1;32m    417\u001b[0m \u001b[38;5;28;01mif\u001b[39;00m \u001b[38;5;28mself\u001b[39m\u001b[38;5;241m.\u001b[39mreraise:\n\u001b[1;32m    418\u001b[0m     \u001b[38;5;28;01mraise\u001b[39;00m retry_exc\u001b[38;5;241m.\u001b[39mreraise()\n\u001b[0;32m--> 419\u001b[0m \u001b[38;5;28;01mraise\u001b[39;00m retry_exc \u001b[38;5;28;01mfrom\u001b[39;00m \u001b[38;5;21;01mfut\u001b[39;00m\u001b[38;5;21;01m.\u001b[39;00m\u001b[38;5;21;01mexception\u001b[39;00m()\n",
      "\u001b[0;31mRetryError\u001b[0m: RetryError[<Future at 0x7f4f74525240 state=finished raised Exception>]"
     ]
    }
   ],
   "source": [
    "stop_after_7_attempts()"
   ]
  },
  {
   "cell_type": "code",
   "execution_count": 18,
   "metadata": {},
   "outputs": [
    {
     "name": "stdout",
     "output_type": "stream",
     "text": [
      "0.6666666666666666\n",
      "0.75\n",
      "0.2\n",
      "0.0\n",
      "1.0\n"
     ]
    }
   ],
   "source": [
    "labels = ['a', 'b', 'c', 'd', 'e', 'f', 'g', 'h', 'i', 'j']\n",
    "\n",
    "target = {'a', 'b', 'c'}\n",
    "pred_1 = {'a', 'b'}\n",
    "pred_2 = {'a', 'b', 'c', 'd'}\n",
    "pred_3 = {'c', 'd', 'e'}\n",
    "pred_4 = {'d', 'e', 'f'}\n",
    "pred_5 = {'a', 'b', 'c'}\n",
    "\n",
    "def jaccard_similarity(list1, list2):\n",
    "    intersection = len(list1.intersection(list2))\n",
    "    union = len(list1.union(list2))\n",
    "    return intersection / union\n",
    "\n",
    "print(jaccard_similarity(target, pred_1))\n",
    "print(jaccard_similarity(target, pred_2))\n",
    "print(jaccard_similarity(target, pred_3))\n",
    "print(jaccard_similarity(target, pred_4))\n",
    "print(jaccard_similarity(target, pred_5))\n"
   ]
  },
  {
   "cell_type": "code",
   "execution_count": 19,
   "metadata": {},
   "outputs": [
    {
     "name": "stdout",
     "output_type": "stream",
     "text": [
      "0.6666666666666666\n"
     ]
    }
   ],
   "source": [
    "def accuracy(target, pred):\n",
    "    return len(target.intersection(pred)) / len(target)\n",
    "\n",
    "print(accuracy(target, pred_1))"
   ]
  },
  {
   "cell_type": "code",
   "execution_count": 27,
   "metadata": {},
   "outputs": [
    {
     "data": {
      "text/plain": [
       "48"
      ]
     },
     "execution_count": 27,
     "metadata": {},
     "output_type": "execute_result"
    }
   ],
   "source": [
    "\n",
    "multilabel_classes = ['lists_createoradd', 'calendar_query', 'email_sendemail', 'news_query',\n",
    " 'play_music', 'play_radio', 'qa_maths', 'email_query','weather_query',\n",
    " 'calendar_set','iot_hue_lightdim','takeaway_query','social_post'\n",
    " 'email_querycontact','qa_factoid','calendar_remove','cooking_recipe',\n",
    " 'lists_query','general_quirky','alarm_query','takeaway_order',\n",
    " 'iot_hue_lightup','lists_remove','qa_currency','play_game',\n",
    " 'play_audiobook','qa_definition','music_query','datetime_query',\n",
    " 'transport_query','iot_hue_lightoff','iot_hue_lightchange',\n",
    " 'iot_hue_lighton','alarm_set','music_likeness','recommendation_movies',\n",
    " 'transport_ticket','recommendation_locations','audio_volume_mute',\n",
    " 'iot_wemo_on','play_podcasts','datetime_convert','audio_volume_other',\n",
    " 'recommendation_events','alarm_remove','iot_coffee','music_dislikeness',\n",
    " 'general_joke','social_query']\n",
    "\n",
    "len(multilabel_classes)"
   ]
  },
  {
   "cell_type": "code",
   "execution_count": 24,
   "metadata": {},
   "outputs": [
    {
     "name": "stdout",
     "output_type": "stream",
     "text": [
      "(2, 0, 1, None)\n",
      "(3, 1, 0, None)\n",
      "(1, 2, 2, None)\n",
      "(0, 3, 3, None)\n",
      "(3, 0, 0, None)\n"
     ]
    }
   ],
   "source": [
    "# calculate tp, fp, fn, tn\n",
    "\n",
    "def confusion_matrix(target, pred):\n",
    "    tp = len(target.intersection(pred))\n",
    "    fp = len(pred - target)\n",
    "    fn = len(target - pred)\n",
    "    if n_labels:\n",
    "        tn = len(labels) - (tp + fp + fn)\n",
    "    else:\n",
    "        tn = None\n",
    "    return tp, fp, fn, tn\n",
    "\n",
    "print(confusion_matrix(target, pred_1))\n",
    "print(confusion_matrix(target, pred_2))\n",
    "print(confusion_matrix(target, pred_3))\n",
    "print(confusion_matrix(target, pred_4))\n",
    "print(confusion_matrix(target, pred_5))"
   ]
  },
  {
   "cell_type": "code",
   "execution_count": 26,
   "metadata": {},
   "outputs": [
    {
     "name": "stdout",
     "output_type": "stream",
     "text": [
      "0.8\n",
      "0.8571428571428571\n",
      "0.3333333333333333\n",
      "0\n",
      "1.0\n"
     ]
    }
   ],
   "source": [
    "def f1_score(target, pred):\n",
    "    tp, fp, fn, tn = confusion_matrix(target, pred)\n",
    "    precision = tp / (tp + fp) if (tp + fp) != 0 else 0\n",
    "    recall = tp / (tp + fn) if (tp + fn) != 0 else 0\n",
    "    return 2 * (precision * recall) / (precision + recall) if (precision + recall) != 0 else 0\n",
    "\n",
    "print(f1_score(target, pred_1))\n",
    "print(f1_score(target, pred_2))\n",
    "print(f1_score(target, pred_3))\n",
    "print(f1_score(target, pred_4))\n",
    "print(f1_score(target, pred_5))"
   ]
  },
  {
   "cell_type": "code",
   "execution_count": 42,
   "metadata": {},
   "outputs": [
    {
     "name": "stdout",
     "output_type": "stream",
     "text": [
      "(1.0, 1.0, 1.0, 0)\n",
      "(1.0, 0.9, 0.9473684210526316, 0.991304347826087)\n",
      "0.9400000000000001\n",
      "0.7\n"
     ]
    }
   ],
   "source": [
    "x = [{'lists_createoradd', 'calendar_query', 'email_sendemail'}, {'lists_createoradd', 'calendar_query', 'email_sendemail'}, {'lists_createoradd', 'calendar_query', 'email_sendemail'}, {'calendar_query', 'email_sendemail'}, {'lists_createoradd', 'calendar_query', 'email_sendemail'}, {'calendar_query', 'email_sendemail'}, {'lists_createoradd', 'calendar_query', 'email_sendemail'}, {'calendar_query', 'email_sendemail'}, {'lists_createoradd', 'calendar_query', 'email_sendemail'}, {'lists_createoradd', 'calendar_query', 'email_sendemail'}]\n",
    "y = {'lists_createoradd', 'calendar_query', 'email_sendemail'}\n",
    "\n",
    "def get_confusion_matrix(y_true, y_pred, n_labels=0):\n",
    "    tp = len(y_true.intersection(y_pred))\n",
    "    fp = len(y_pred - y_true)\n",
    "    fn = len(y_true - y_pred)\n",
    "    if n_labels:\n",
    "        tn = n_labels - (tp + fp + fn)\n",
    "    else:\n",
    "        tn = None\n",
    "    return tp, fp, fn, tn\n",
    "\n",
    "def get_precsion_recall_f1_score_accuracy(tp, fp, fn, tn):\n",
    "    precision = tp / (tp + fp) if (tp + fp) != 0 else 0\n",
    "    recall = tp / (tp + fn) if (tp + fn) != 0 else 0\n",
    "    f1 = 2 * (precision * recall) / (precision + recall) if (precision + recall) != 0 else 0\n",
    "    accuracy = (tp + tn) / (tp + tn + fp + fn) if tn else 0\n",
    "    return precision, recall, f1, accuracy\n",
    "\n",
    "def get_metrics(y_true, y_pred, n_labels=0):\n",
    "    tp, fp, fn, tn = get_confusion_matrix(y_true, y_pred, n_labels)\n",
    "    return get_precsion_recall_f1_score_accuracy(tp, fp, fn, tn)\n",
    "\n",
    "def get_multilabel_classification_metrics(target, preds):\n",
    "    tp, fp, fn, tn = 0, 0, 0, 0\n",
    "    for pred in preds:\n",
    "        tp += len(target.intersection(pred))\n",
    "        fp += len(pred - target)\n",
    "        fn += len(target - pred)\n",
    "        tn += 48 - (tp + fp + fn)\n",
    "    p = tp / (tp + fp) if (tp + fp) != 0 else 0\n",
    "    r = tp / (tp + fn) if (tp + fn) != 0 else 0\n",
    "    f1 = 2 * (p * r) / (p + r) if (p + r) != 0 else 0\n",
    "    a = (tp + tn) / (tp + tn + fp + fn) if tn else 0\n",
    "    return {'precision': p, 'recall': r, 'f1': f1, 'accuracy': a}\n",
    "\n",
    "from numpy import mean\n",
    "\n",
    "print(get_metrics(y, x[0]))\n",
    "\n",
    "print(get_multilabel_classification_metrics(set()y, x))\n",
    "\n",
    "print(mean([get_metrics(y, x[i])[2] for i in range(len(x))]))\n",
    "\n",
    "accurate = 0\n",
    "for y_pred in x:\n",
    "    if y_pred == y:\n",
    "        accurate += 1\n",
    "print(accurate / len(x))\n",
    "\n"
   ]
  },
  {
   "cell_type": "code",
   "execution_count": 29,
   "metadata": {},
   "outputs": [
    {
     "data": {
      "text/plain": [
       "1.0"
      ]
     },
     "execution_count": 29,
     "metadata": {},
     "output_type": "execute_result"
    },
    {
     "data": {
      "text/plain": [
       "set"
      ]
     },
     "execution_count": 43,
     "metadata": {},
     "output_type": "execute_result"
    }
   ],
   "source": [
    "type(y)"
   ]
  },
  {
   "cell_type": "code",
   "execution_count": null,
   "metadata": {},
   "outputs": [],
   "source": []
  }
 ],
 "metadata": {
  "kernelspec": {
   "display_name": "py3.10",
   "language": "python",
   "name": "python3"
  },
  "language_info": {
   "codemirror_mode": {
    "name": "ipython",
    "version": 3
   },
   "file_extension": ".py",
   "mimetype": "text/x-python",
   "name": "python",
   "nbconvert_exporter": "python",
   "pygments_lexer": "ipython3",
   "version": "3.10.14"
  }
 },
 "nbformat": 4,
 "nbformat_minor": 2
}
