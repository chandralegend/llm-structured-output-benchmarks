{
 "cells": [
  {
   "cell_type": "code",
   "execution_count": 1,
   "metadata": {},
   "outputs": [],
   "source": [
    "import os\n",
    "import getpass\n",
    "\n",
    "os.environ['OPENAI_API_KEY'] = getpass.getpass('Enter your OpenAI API key: ')"
   ]
  },
  {
   "cell_type": "code",
   "execution_count": 2,
   "metadata": {},
   "outputs": [],
   "source": [
    "os.environ['OPENAI_BASE_URL'] = 'https://api.together.xyz/v1'"
   ]
  },
  {
   "cell_type": "code",
   "execution_count": 33,
   "metadata": {},
   "outputs": [],
   "source": [
    "from semantix import enhance\n",
    "from semantix.llms import OpenAI\n",
    "from semantix.utils import create_enum\n",
    "\n",
    "\n",
    "llm = OpenAI(model=\"meta-llama/Meta-Llama-3.1-70B-Instruct-Turbo\", verbose=True)\n",
    "\n",
    "multilabel_classes = ['lists_createoradd', 'calendar_query', 'email_sendemail', 'news_query',\n",
    " 'play_music', 'play_radio', 'qa_maths', 'email_query','weather_query',\n",
    " 'calendar_set','iot_hue_lightdim','takeaway_query','social_post'\n",
    " 'email_querycontact','qa_factoid','calendar_remove','cooking_recipe',\n",
    " 'lists_query','general_quirky','alarm_query','takeaway_order',\n",
    " 'iot_hue_lightup','lists_remove','qa_currency','play_game',\n",
    " 'play_audiobook','qa_definition','music_query','datetime_query',\n",
    " 'transport_query','iot_hue_lightoff','iot_hue_lightchange',\n",
    " 'iot_hue_lighton','alarm_set','music_likeness','recommendation_movies',\n",
    " 'transport_ticket','recommendation_locations','audio_volume_mute',\n",
    " 'iot_wemo_on','play_podcasts','datetime_convert','audio_volume_other',\n",
    " 'recommendation_events','alarm_remove','iot_coffee','music_dislikeness',\n",
    " 'general_joke','social_query']\n",
    "\n",
    "Label = create_enum(\"Label\", {name: name for name in multilabel_classes}, \"Multilabel Classes\")\n",
    "\n",
    "@enhance(\"\", llm)\n",
    "def classify(text: str) -> list[Label]: ... # type: ignore"
   ]
  },
  {
   "cell_type": "code",
   "execution_count": 34,
   "metadata": {},
   "outputs": [
    {
     "name": "stderr",
     "output_type": "stream",
     "text": [
      "\u001b[32m2024-10-06 22:49:00.968\u001b[0m | \u001b[1mINFO    \u001b[0m | \u001b[36msemantix.llms.base\u001b[0m:\u001b[36m__call__\u001b[0m:\u001b[36m254\u001b[0m - \u001b[1mModel Input\n",
      "# Goal:  (classify)\n",
      "## Output Type Definition\n",
      "- list[Label]\n",
      "## Type Definitions\n",
      "- Multilabel Classes (Label) (Enum) -> Label.lists_createoradd, Label.calendar_query, Label.email_sendemail, Label.news_query, Label.play_music, Label.play_radio, Label.qa_maths, Label.email_query, Label.weather_query, Label.calendar_set, Label.iot_hue_lightdim, Label.takeaway_query, Label.social_postemail_querycontact, Label.qa_factoid, Label.calendar_remove, Label.cooking_recipe, Label.lists_query, Label.general_quirky, Label.alarm_query, Label.takeaway_order, Label.iot_hue_lightup, Label.lists_remove, Label.qa_currency, Label.play_game, Label.play_audiobook, Label.qa_definition, Label.music_query, Label.datetime_query, Label.transport_query, Label.iot_hue_lightoff, Label.iot_hue_lightchange, Label.iot_hue_lighton, Label.alarm_set, Label.music_likeness, Label.recommendation_movies, Label.transport_ticket, Label.recommendation_locations, Label.audio_volume_mute, Label.iot_wemo_on, Label.play_podcasts, Label.datetime_convert, Label.audio_volume_other, Label.recommendation_events, Label.alarm_remove, Label.iot_coffee, Label.music_dislikeness, Label.general_joke, Label.social_query\n",
      "## Inputs\n",
      "- text (str) = \"Play some music and turn on the lights\"\n",
      "Follow the following template to provide the answer.\n",
      "\n",
      "```output\n",
      "Provide the output in the desired output type.\n",
      "```\u001b[0m\n",
      "\u001b[32m2024-10-06 22:49:02.506\u001b[0m | \u001b[1mINFO    \u001b[0m | \u001b[36msemantix.llms.base\u001b[0m:\u001b[36mresolve_output\u001b[0m:\u001b[36m288\u001b[0m - \u001b[1mModel Output\n",
      "```output\n",
      "[Label.play_music, Label.iot_hue_lighton]\n",
      "```\u001b[0m\n"
     ]
    },
    {
     "data": {
      "text/plain": [
       "[<Label.play_music: 'play_music'>, <Label.iot_hue_lighton: 'iot_hue_lighton'>]"
      ]
     },
     "execution_count": 34,
     "metadata": {},
     "output_type": "execute_result"
    }
   ],
   "source": [
    "classify(text=\"Play some music and turn on the lights\")"
   ]
  },
  {
   "cell_type": "code",
   "execution_count": 35,
   "metadata": {},
   "outputs": [
    {
     "name": "stderr",
     "output_type": "stream",
     "text": [
      "\u001b[32m2024-10-06 22:49:04.737\u001b[0m | \u001b[1mINFO    \u001b[0m | \u001b[36msemantix.llms.base\u001b[0m:\u001b[36m__call__\u001b[0m:\u001b[36m254\u001b[0m - \u001b[1mModel Input\n",
      "# Goal:  (classify)\n",
      "## Output Type Definition\n",
      "- list[Label]\n",
      "## Type Definitions\n",
      "- Multilabel Classes (Label) (Enum) -> Label.lists_createoradd, Label.calendar_query, Label.email_sendemail, Label.news_query, Label.play_music, Label.play_radio, Label.qa_maths, Label.email_query, Label.weather_query, Label.calendar_set, Label.iot_hue_lightdim, Label.takeaway_query, Label.social_postemail_querycontact, Label.qa_factoid, Label.calendar_remove, Label.cooking_recipe, Label.lists_query, Label.general_quirky, Label.alarm_query, Label.takeaway_order, Label.iot_hue_lightup, Label.lists_remove, Label.qa_currency, Label.play_game, Label.play_audiobook, Label.qa_definition, Label.music_query, Label.datetime_query, Label.transport_query, Label.iot_hue_lightoff, Label.iot_hue_lightchange, Label.iot_hue_lighton, Label.alarm_set, Label.music_likeness, Label.recommendation_movies, Label.transport_ticket, Label.recommendation_locations, Label.audio_volume_mute, Label.iot_wemo_on, Label.play_podcasts, Label.datetime_convert, Label.audio_volume_other, Label.recommendation_events, Label.alarm_remove, Label.iot_coffee, Label.music_dislikeness, Label.general_joke, Label.social_query\n",
      "## Inputs\n",
      "- text (str) = \"Play some music and turn on the lights\"\n",
      "Follow the following template to provide the answer.\n",
      "\n",
      "```output\n",
      "Provide the output in the desired output type.\n",
      "```\u001b[0m\n",
      "\u001b[32m2024-10-06 22:49:06.003\u001b[0m | \u001b[1mINFO    \u001b[0m | \u001b[36msemantix.llms.base\u001b[0m:\u001b[36mresolve_output\u001b[0m:\u001b[36m288\u001b[0m - \u001b[1mModel Output\n",
      "```output\n",
      "[Label.play_music, Label.iot_hue_lighton]\n",
      "```\u001b[0m\n"
     ]
    }
   ],
   "source": [
    "def validate_output(output, type_hint):\n",
    "    # recursively validate the output\n",
    "    if isinstance(type_hint, str):\n",
    "        type_hint = eval(type_hint)\n",
    "    if isinstance(type_hint, list):\n",
    "        assert isinstance(output, list), f\"Expected list, got {type(output)}\"\n",
    "        assert len(type_hint) == 1, f\"Expected list of length 1, got {len(type_hint)}\"\n",
    "        for item in output:\n",
    "            validate_output(item, type_hint[0])\n",
    "    elif hasattr(type_hint, '__args__'):\n",
    "        if type_hint.__origin__ == list:\n",
    "            assert isinstance(output, list), f\"Expected list, got {type(output)}\"\n",
    "            for item in output:\n",
    "                validate_output(item, type_hint.__args__[0])\n",
    "    else:\n",
    "        assert isinstance(output, type_hint), f\"Expected {type_hint}, got {type(output)}\"\n",
    "\n",
    "type_hint = \"list[Label]\"\n",
    "\n",
    "validate_output(classify(text=\"Play some music and turn on the lights\"), type_hint)"
   ]
  },
  {
   "cell_type": "code",
   "execution_count": 33,
   "metadata": {},
   "outputs": [
    {
     "data": {
      "text/plain": [
       "MultiLabelClassification(classes=[<MultilabelClasses.play_music: 'play_music'>, <MultilabelClasses.iot_hue_lighton: 'iot_hue_lighton'>])"
      ]
     },
     "execution_count": 33,
     "metadata": {},
     "output_type": "execute_result"
    }
   ],
   "source": [
    "from openai import OpenAI\n",
    "import instructor\n",
    "from pydantic import BaseModel\n",
    "from enum import Enum\n",
    "\n",
    "instructor_client = instructor.patch(OpenAI())\n",
    "\n",
    "class MultiLabelClassification(BaseModel):\n",
    "    classes: list[\n",
    "        Enum(\"MultilabelClasses\", {name: name for name in multilabel_classes})\n",
    "    ]\n",
    "\n",
    "text = \"Play some music and turn on the lights\"\n",
    "response = instructor_client.chat.completions.create(\n",
    "    model=\"meta-llama/Meta-Llama-3.1-8B-Instruct-Turbo\",\n",
    "    response_model=MultiLabelClassification,\n",
    "    messages=[{\"role\": \"user\", \"content\": f\"Classify the following text: {text}\"}],\n",
    ")\n",
    "\n",
    "response"
   ]
  },
  {
   "cell_type": "code",
   "execution_count": null,
   "metadata": {},
   "outputs": [],
   "source": []
  }
 ],
 "metadata": {
  "kernelspec": {
   "display_name": "py310",
   "language": "python",
   "name": "python3"
  },
  "language_info": {
   "codemirror_mode": {
    "name": "ipython",
    "version": 3
   },
   "file_extension": ".py",
   "mimetype": "text/x-python",
   "name": "python",
   "nbconvert_exporter": "python",
   "pygments_lexer": "ipython3",
   "version": "3.10.14"
  }
 },
 "nbformat": 4,
 "nbformat_minor": 2
}
